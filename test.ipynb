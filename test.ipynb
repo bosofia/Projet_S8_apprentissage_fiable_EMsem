{
 "cells": [
  {
   "cell_type": "code",
   "execution_count": null,
   "metadata": {},
   "outputs": [],
   "source": [
    "import pandas as pd \n",
    "import numpy as np\n",
    "from algo_EM import emsem_function\n",
    "\n",
    "dt = pd.read_csv(\"data_fraude.csv\")\n",
    "\n",
    "X1 = dt[[\"newbalanceDest\",\"oldbalanceDest\",\"amount\"]]\n",
    "X2 = dt[[\"newbalanceOrig\",\"oldbalanceOrg\"]]\n",
    "Y = dt[\"isFraud\"]\n",
    "\n",
    "# Define the dimensions of the covariate matrices\n",
    "n = Y.shape[0]  # Number of units/observations\n",
    "rT = 2  # Dimension of covariate matrix T\n",
    "r1 = 2  # Dimension of covariate matrix T1\n",
    "r2 = 2  # Dimension of covariate matrix T2\n",
    "\n",
    "# Simulate covariate matrices T, T1, and T2\n",
    "T = np.random.normal(0, 1, size=(n, rT))  # Simulate matrix T\n",
    "T1 = np.random.normal(0, 1, size=(n, r1))  # Simulate matrix T1\n",
    "T2 = np.random.normal(0, 1, size=(n, r2))  # Simulate matrix T2\n",
    "\n",
    "# Print the simulated covariate matrices\n",
    "print(\"Matrix T:\")\n",
    "print(T)\n",
    "print(\"\\nMatrix T1:\")\n",
    "print(T1)\n",
    "print(\"\\nMatrix T2:\")\n",
    "print(T2)\n",
    "\n",
    "print(Y.shape[1])\n"
   ]
  },
  {
   "cell_type": "code",
   "execution_count": null,
   "metadata": {},
   "outputs": [],
   "source": [
    "print(Y)\n",
    "y = np.array(pd.DataFrame(Y))\n",
    "print(y)"
   ]
  },
  {
   "cell_type": "code",
   "execution_count": null,
   "metadata": {},
   "outputs": [],
   "source": [
    "print(X1)\n",
    "x1 = np.array(pd.DataFrame(X1))\n",
    "print(x1)"
   ]
  },
  {
   "cell_type": "code",
   "execution_count": 1,
   "metadata": {},
   "outputs": [
    {
     "ename": "UnboundLocalError",
     "evalue": "local variable 'np' referenced before assignment",
     "output_type": "error",
     "traceback": [
      "\u001b[1;31m---------------------------------------------------------------------------\u001b[0m",
      "\u001b[1;31mUnboundLocalError\u001b[0m                         Traceback (most recent call last)",
      "Cell \u001b[1;32mIn[1], line 23\u001b[0m\n\u001b[0;32m     19\u001b[0m T1 \u001b[39m=\u001b[39m np\u001b[39m.\u001b[39mrandom\u001b[39m.\u001b[39mnormal(\u001b[39m0\u001b[39m, \u001b[39m1\u001b[39m, size\u001b[39m=\u001b[39m(n, r1))  \u001b[39m# Simulate matrix T1\u001b[39;00m\n\u001b[0;32m     20\u001b[0m T2 \u001b[39m=\u001b[39m np\u001b[39m.\u001b[39mrandom\u001b[39m.\u001b[39mnormal(\u001b[39m0\u001b[39m, \u001b[39m1\u001b[39m, size\u001b[39m=\u001b[39m(n, r2))  \u001b[39m# Simulate matrix T2\u001b[39;00m\n\u001b[1;32m---> 23\u001b[0m \u001b[39mprint\u001b[39m(emsem_function(Y,X1,X2,T,T1,T2,epsilon\u001b[39m=\u001b[39;49m\u001b[39m10\u001b[39;49m\u001b[39m*\u001b[39;49m\u001b[39m*\u001b[39;49m(\u001b[39m-\u001b[39;49m\u001b[39m3\u001b[39;49m),nb_it\u001b[39m=\u001b[39;49m\u001b[39m100\u001b[39;49m))\n",
      "File \u001b[1;32mc:\\Users\\ayala\\OneDrive\\Bureau\\Pole_projet\\algo_EM.py:193\u001b[0m, in \u001b[0;36memsem_function\u001b[1;34m(Y, X1, X2, T, T1, T2, epsilon, nb_it)\u001b[0m\n\u001b[0;32m    189\u001b[0m \u001b[39mdef\u001b[39;00m \u001b[39memsem_function\u001b[39m(Y,X1,X2,T,T1,T2,epsilon\u001b[39m=\u001b[39m\u001b[39m10\u001b[39m\u001b[39m*\u001b[39m\u001b[39m*\u001b[39m(\u001b[39m-\u001b[39m\u001b[39m3\u001b[39m),nb_it\u001b[39m=\u001b[39m\u001b[39m100\u001b[39m):\n\u001b[0;32m    190\u001b[0m    \n\u001b[0;32m    191\u001b[0m     \u001b[39m#----ENTRE DE PARAMETRES----\u001b[39;00m\n\u001b[1;32m--> 193\u001b[0m     qX1 \u001b[39m=\u001b[39m np\u001b[39m.\u001b[39mshape(X1)[\u001b[39m1\u001b[39m]\n\u001b[0;32m    194\u001b[0m     qX2 \u001b[39m=\u001b[39m np\u001b[39m.\u001b[39mshape(X2)[\u001b[39m1\u001b[39m]\n\u001b[0;32m    195\u001b[0m     qY \u001b[39m=\u001b[39m np\u001b[39m.\u001b[39mshape(Y)[\u001b[39m1\u001b[39m]\n",
      "\u001b[1;31mUnboundLocalError\u001b[0m: local variable 'np' referenced before assignment"
     ]
    }
   ],
   "source": [
    "import pandas as pd \n",
    "import numpy as np\n",
    "from algo_EM import emsem_function\n",
    "\n",
    "dt = pd.read_csv(\"data_fraude.csv\")\n",
    "\n",
    "X1 = np.array(pd.DataFrame(dt[[\"newbalanceDest\",\"oldbalanceDest\"]]))[:1000,:]\n",
    "X2 = np.array(pd.DataFrame(dt[[\"newbalanceOrig\",\"oldbalanceOrg\"]]))[:1000,:]\n",
    "Y = np.array(pd.DataFrame(dt[\"isFraud\"]))[:1000,:]\n",
    "\n",
    "# Define the dimensions of the covariate matrices\n",
    "n = Y.shape[0]  # Number of units/observations\n",
    "rT = 2 # Dimension of covariate matrix T\n",
    "r1 = 1  # Dimension of covariate matrix T1\n",
    "r2 = 1  # Dimension of covariate matrix T2\n",
    "\n",
    "# Simulate covariate matrices T, T1, and T2\n",
    "T = np.random.normal(0, 1, size=(n, rT))  # Simulate matrix T\n",
    "T1 = np.random.normal(0, 1, size=(n, r1))  # Simulate matrix T1\n",
    "T2 = np.random.normal(0, 1, size=(n, r2))  # Simulate matrix T2\n",
    "\n",
    "\n",
    "print(emsem_function(Y,X1,X2,T,T1,T2,epsilon=10**(-3),nb_it=100))"
   ]
  },
  {
   "cell_type": "code",
   "execution_count": null,
   "metadata": {},
   "outputs": [],
   "source": []
  }
 ],
 "metadata": {
  "kernelspec": {
   "display_name": "Python 3",
   "language": "python",
   "name": "python3"
  },
  "language_info": {
   "codemirror_mode": {
    "name": "ipython",
    "version": 3
   },
   "file_extension": ".py",
   "mimetype": "text/x-python",
   "name": "python",
   "nbconvert_exporter": "python",
   "pygments_lexer": "ipython3",
   "version": "3.10.11"
  },
  "orig_nbformat": 4
 },
 "nbformat": 4,
 "nbformat_minor": 2
}
